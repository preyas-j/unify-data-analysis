{
 "cells": [
  {
   "cell_type": "code",
   "execution_count": 0,
   "metadata": {
    "application/vnd.databricks.v1+cell": {
     "cellMetadata": {
      "byteLimit": 2048000,
      "rowLimit": 10000
     },
     "collapsed": true,
     "inputWidgets": {},
     "nuid": "e5d36f62-f709-473f-ae06-205b91c1153e",
     "showTitle": true,
     "tableResultSettingsMap": {},
     "title": "pyspark playground"
    }
   },
   "outputs": [],
   "source": [
    "from pyspark.sql import SparkSession\n",
    "from pyspark.sql.functions import *\n",
    "import pandas\n",
    "\n",
    "\n",
    "spark = SparkSession.builder.appName(\"Spark DataFrames\").getOrCreate()\n",
    "\n",
    "#filtered_df = df.filter(df.installation_id is unique)\n",
    "# display(df.select(\"installation_id\").distinct())\n",
    "# display(df.select(\"tag\").distinct())\n",
    "\n",
    "df = spark.sql(\"\"\"\n",
    "               select distinct installation_id\n",
    "               from test_unify_analytics.bronze.logs_partition_1\n",
    "              \"\"\")\n",
    "list = df.toPandas()['installation_id'].tolist()\n",
    "print(list)\n",
    "\n",
    "# df = spark.table('test_unify_analytics.bronze.logs_partition_1') \\\n",
    "#         .select('installation_id', 'tag', 'unix_timestamp', 'values') \\\n",
    "#         .filter((col(\"tag\") == 242) & (col('values')[5] == 14))\n",
    "# df = spark.sql(\"\"\"\n",
    "#                 select installation_id, tag, unix_timestamp, values\n",
    "#                 from test_unify_analytics.bronze.logs_partition_1\n",
    "#                 where tag = 242 AND values[5] = 14\n",
    "#                 \"\"\")\n",
    "# display(df)\n",
    "\n",
    "\n"
   ]
  },
  {
   "cell_type": "code",
   "execution_count": 0,
   "metadata": {
    "application/vnd.databricks.v1+cell": {
     "cellMetadata": {
      "byteLimit": 2048000,
      "rowLimit": 10000
     },
     "collapsed": true,
     "inputWidgets": {},
     "nuid": "cec14348-2af6-4dc5-a581-815fe1778e37",
     "showTitle": true,
     "tableResultSettingsMap": {},
     "title": "num_port_openclose"
    }
   },
   "outputs": [],
   "source": [
    "%sql\n",
    "select installation_id, tag, count(tag)\n",
    "from test_unify_analytics.bronze.logs_1\n",
    "where installation_id = 'a037a00000pwUFKAA2' and (tag = 248 or tag = 249)\n",
    "group by installation_id, tag\n",
    "order by tag asc;"
   ]
  },
  {
   "cell_type": "code",
   "execution_count": 0,
   "metadata": {
    "application/vnd.databricks.v1+cell": {
     "cellMetadata": {
      "byteLimit": 2048000,
      "rowLimit": 10000
     },
     "collapsed": true,
     "inputWidgets": {},
     "nuid": "9a32b8d0-d689-4ce9-8ac0-1ee9031eb9f6",
     "showTitle": true,
     "tableResultSettingsMap": {},
     "title": "num_bin_pres - one_install"
    }
   },
   "outputs": [],
   "source": [
    "import pandas as pd\n",
    "from pyspark.sql import SparkSession\n",
    "from pyspark.sql.functions import *\n",
    "\n",
    "spark = SparkSession.builder.appName(\"Spark DataFrames\").getOrCreate()\n",
    "\n",
    "ps_df = spark.table('test_unify_analytics.bronze.logs_partition_1')\n",
    "ps_df = ps_df.filter((ps_df.installation_id == 'a030Y00000KPfzuQAD') & (ps_df.tag == 242))\n",
    "\n",
    "# ps_df1 = ps_df.select(ps_df.installation_id, ps_df.tag, ps_df.unix_timestamp, ps_df.values[1].alias('bin num'))\n",
    "# pd_df1 = ps_df1.toPandas()\n",
    "# pd_df1 = pd_df1.sort_values(by=['bin num', 'unix_timestamp'])\n",
    "# display(pd_df1)\n",
    "# print('num rows: ', pd_df1.size)\n",
    "\n",
    "ps_df2 = ps_df.select(ps_df.values[0].alias('bin num'), ps_df.values[5].alias('mode')).filter(ps_df.values[5] == 14)\n",
    "ps_df2 = ps_df2.groupBy(['bin num', 'mode']).count()\n",
    "\n",
    "pd_df2 = ps_df2.toPandas().sort_values(by=['count'], ascending=False)\n",
    "display(pd_df2)"
   ]
  },
  {
   "cell_type": "code",
   "execution_count": 0,
   "metadata": {
    "application/vnd.databricks.v1+cell": {
     "cellMetadata": {
      "byteLimit": 2048000,
      "rowLimit": 10000
     },
     "collapsed": true,
     "inputWidgets": {},
     "nuid": "34f517c1-7af3-441c-9145-25e519aa602f",
     "showTitle": true,
     "tableResultSettingsMap": {},
     "title": "bin_pres_avg_timediff - one_install"
    }
   },
   "outputs": [],
   "source": [
    "import pandas\n",
    "from pyspark.sql import SparkSession\n",
    "from pyspark.sql.functions import *\n",
    "from pyspark.sql.window import Window\n",
    "\n",
    "spark = SparkSession.builder.appName(\"Installation Data\").getOrCreate()\n",
    "        \n",
    "# for i in range (0,4):\n",
    "# values[5] == 14 --> bin in PORT\n",
    "df = spark.table('test_unify_analytics.bronze.logs_partition_1') \\\n",
    "       .select('installation_id', 'tag', 'unix_timestamp', 'values') \\\n",
    "       .filter((col('installation_id') == 'a031v00001GpVAEAA3') & \n",
    "               (col('tag') == 242) & \n",
    "               (col('values')[5] == 14))\n",
    "\n",
    "\n",
    "df1 = df.withColumn('bin num', col('values')[0]) \\\n",
    "       .withColumn('unix timestamp', col('unix_timestamp'))\n",
    "window_spec = Window.partitionBy('bin num').orderBy('unix_timestamp')\n",
    "df1 = df1.withColumn('prev_timestamp', lag('unix_timestamp').over(window_spec)) \\\n",
    "       .withColumn('time diff (sec)', col('unix_timestamp') - col('prev_timestamp'))\n",
    "\n",
    "result_df = df1.groupBy('bin num').agg(round(mean('time diff (sec)')).alias('avg time between presentations (sec)'))\n",
    "result_df = result_df.withColumn('avg time between presentations (min)', round(col('avg time between presentations (sec)') / 60))\n",
    "pd = result_df.toPandas().sort_values(by=['avg time between presentations (sec)'])\n",
    "display(pd)\n",
    "\n",
    "# pd.to_csv('/dbfs/FileStore/tables/a031v00001GpVAEAA3.csv')\n",
    "# # retrieve_filepath = '/files/tables/a031v00001GpVAEAA3.csv'\n",
    "# url = 'https://adb-4786482868192795.15.azuredatabricks.net/files/tables/a031v00001GpVAEAA3.csv'\n",
    "# response = requests.get(url)\n",
    "# print(response)"
   ]
  },
  {
   "cell_type": "code",
   "execution_count": 0,
   "metadata": {
    "application/vnd.databricks.v1+cell": {
     "cellMetadata": {
      "byteLimit": 2048000,
      "rowLimit": 10000
     },
     "collapsed": true,
     "inputWidgets": {},
     "nuid": "dffbb05b-9242-43b2-bea9-f5ae2d0fe24f",
     "showTitle": true,
     "tableResultSettingsMap": {},
     "title": "bin_pres_avg_timediff - all_install"
    }
   },
   "outputs": [],
   "source": [
    "# import pandas as pd\n",
    "from pyspark.sql import SparkSession\n",
    "from pyspark.sql.functions import *\n",
    "from pyspark.sql.window import Window\n",
    "import webbrowser\n",
    "\n",
    "spark = SparkSession.builder.appName(\"Installation Data\").getOrCreate()\n",
    "\n",
    "install_df = spark.sql(\"\"\"\n",
    "              select distinct installation_id\n",
    "              from test_unify_analytics.bronze.logs_partition_1\n",
    "              \"\"\")\n",
    "installation_list = install_df.toPandas()['installation_id'].tolist()\n",
    "\n",
    "df = spark.sql(\"\"\"\n",
    "              select installation_id, tag, unix_timestamp, values\n",
    "              from test_unify_analytics.bronze.logs_partition_1\n",
    "              where tag = 242 AND values[5] = 14\n",
    "              \"\"\")\n",
    "\n",
    "# df = spark.table('test_unify_analytics.bronze.logs_partition_1') \\\n",
    "#         .select('installation_id', 'tag', 'unix_timestamp', 'values') \\\n",
    "#         .filter((col(\"tag\") == 242) & (col('values')[5] == 14)) \\\n",
    "#         # .cache()\n",
    "\n",
    "# install_df = df.select('installation_id').distinct()\n",
    "# installation_list = [row['installation_id'] for row in install_df.toLocalIterator()]\n",
    "# print(len(installation_list))\n",
    "\n",
    "# df.cache()\n",
    "dbutils.fs.mkdirs('dbfs:/FileStore/tables')\n",
    "\n",
    "# values[5] == 14 --> bin in PORT\n",
    "for installation in installation_list:\n",
    "       df_loop = df.filter((col('installation_id') == installation)) \n",
    "\n",
    "       df_loop = df_loop.withColumn('bin num', col('values')[0]) \\\n",
    "                        .withColumn('unix timestamp', col('unix_timestamp'))\n",
    "       window_spec = Window.partitionBy('bin num').orderBy('unix_timestamp')\n",
    "       df_loop = df_loop.withColumn('prev_timestamp', lag('unix_timestamp').over(window_spec)) \\\n",
    "                        .withColumn('time diff (sec)', col('unix_timestamp') - col('prev_timestamp'))\n",
    "\n",
    "       result_df = df_loop.groupBy('bin num').agg(round(mean('time diff (sec)')).alias('avg time between presentations (sec)'))\n",
    "       result_df = result_df.withColumn('avg time between presentations (min)', round(col('avg time between presentations (sec)') / 60))\n",
    "              \n",
    "       pd = result_df.toPandas().sort_values(by=['avg time between presentations (sec)'])\n",
    "       # display(pd)\n",
    "\n",
    "       store_filepath = '/dbfs/FileStore/tables/' + installation + '.csv'\n",
    "       pd.to_csv(store_filepath)\n",
    "\n",
    "       #  retrieve_filepath = '/files/tables/' + installation + '.csv'\n",
    "       #  url = 'https://adb-4786482868192795.15.azuredatabricks.net' + retrieve_filepath\n",
    "       #  webbrowser.open(url)"
   ]
  },
  {
   "cell_type": "code",
   "execution_count": 0,
   "metadata": {
    "application/vnd.databricks.v1+cell": {
     "cellMetadata": {
      "byteLimit": 2048000,
      "rowLimit": 10000
     },
     "collapsed": true,
     "inputWidgets": {},
     "nuid": "ae4d57c2-8a38-40f1-9c3a-a1363e03f32d",
     "showTitle": true,
     "tableResultSettingsMap": {},
     "title": "files"
    }
   },
   "outputs": [],
   "source": [
    "import pandas as pd\n",
    "\n",
    "# dbutils.fs.rm('/FileStore/tables/', recurse=True)\n",
    "# dbutils.fs.mkdirs('dbfs:/FileStore/tables')\n",
    "files = dbutils.fs.ls('/FileStore/tables/')\n",
    "display(files)\n",
    "# l = [f.name for f in files]\n",
    "# print('num files: ', len(l))\n",
    "# display(pd.DataFrame(l, columns=['installations']))"
   ]
  },
  {
   "cell_type": "markdown",
   "metadata": {
    "application/vnd.databricks.v1+cell": {
     "cellMetadata": {},
     "inputWidgets": {},
     "nuid": "22d463eb-c5c8-4157-95aa-734f770e7f5f",
     "showTitle": false,
     "tableResultSettingsMap": {},
     "title": ""
    }
   },
   "source": [
    "## Prepare all DataFrames that will be parsed through later \n",
    "\n",
    "**install_df**: get all unique installation_id to create installation_list that will later be iterated though to get relevant data for all installations \\\n",
    "**df**: get all BIN_UPDATE ASLog entries where bin mode is PORT \\\n",
    "**timestamp_df**: get local timestamp for each BIN_UPDATE where bin mode is PORT and convert that timestamp to a day of the week"
   ]
  },
  {
   "cell_type": "code",
   "execution_count": 0,
   "metadata": {
    "application/vnd.databricks.v1+cell": {
     "cellMetadata": {
      "byteLimit": 2048000,
      "rowLimit": 10000
     },
     "inputWidgets": {},
     "nuid": "a285cca0-157f-4ec3-8367-c840125aefa1",
     "showTitle": true,
     "tableResultSettingsMap": {},
     "title": "ready DFs"
    }
   },
   "outputs": [],
   "source": [
    "import pandas\n",
    "from pyspark.sql import SparkSession\n",
    "\n",
    "spark = SparkSession.builder.appName(\"Installation Data\").getOrCreate()\n",
    "\n",
    "install_df = spark.sql(\"\"\"\n",
    "                select distinct installation_id\n",
    "                from test_unify_analytics.bronze.logs_partition_1\n",
    "            \"\"\")\n",
    "# display(install_df)\n",
    "installation_list = install_df.toPandas()['installation_id'].tolist()\n",
    "# print(len(installation_list))\n",
    "\n",
    "# values[5] == 14 --> bin in PORT\n",
    "df = spark.sql(\"\"\"\n",
    "            select installation_id, tag, unix_timestamp, values\n",
    "            from test_unify_analytics.bronze.logs_partition_1\n",
    "            where tag = 242 AND values[5] = 14\n",
    "        \"\"\")\n",
    "\n",
    "# values[5] == 14 --> bin in PORT\n",
    "timestamp_df = spark.sql(\"\"\"\n",
    "                    select local_installation_timestamp, values[0] as BinNo\n",
    "                    from test_unify_analytics.bronze.logs_partition_1\n",
    "                    where tag = 242 AND values[5] = 14\n",
    "                \"\"\")\n",
    "timestamp_df = timestamp_df.withColumn('dotw', date_format(col('local_installation_timestamp'), 'EEEE'))"
   ]
  },
  {
   "cell_type": "code",
   "execution_count": 0,
   "metadata": {
    "application/vnd.databricks.v1+cell": {
     "cellMetadata": {
      "byteLimit": 2048000,
      "rowLimit": 10000
     },
     "inputWidgets": {},
     "nuid": "cec8c1ef-f813-49aa-a163-6d8671656d00",
     "showTitle": true,
     "tableResultSettingsMap": {},
     "title": "avg bin times loop"
    }
   },
   "outputs": [],
   "source": [
    "import pandas\n",
    "from pyspark.sql.functions import *\n",
    "from pyspark.sql.window import Window\n",
    "\n",
    "dbutils.fs.mkdirs('dbfs:/FileStore/tables/avg_bin_time')\n",
    "for installation in installation_list:\n",
    "    df_loop = df.filter((col('installation_id') == installation)) \n",
    "\n",
    "    df_loop = df_loop.withColumn('bin num', col('values')[0]) \\\n",
    "                     .withColumn('unix timestamp', col('unix_timestamp'))\n",
    "    window_spec = Window.partitionBy('bin num').orderBy('unix_timestamp')\n",
    "    df_loop = df_loop.withColumn('prev_timestamp', lag('unix_timestamp').over(window_spec)) \\\n",
    "                     .withColumn('time diff (sec)', col('unix_timestamp') - col('prev_timestamp'))\n",
    "\n",
    "    result_df = df_loop.groupBy('bin num').agg(round(mean('time diff (sec)')).alias('avg time between presentations (sec)'))\n",
    "    result_df = result_df.withColumn('avg time between presentations (min)', round(col('avg time between presentations (sec)') / 60))\n",
    "            \n",
    "    pd = result_df.toPandas().sort_values(by=['avg time between presentations (sec)'])\n",
    "    # display(pd)\n",
    "\n",
    "    store_filepath = '/dbfs/FileStore/tables/avg_bin_time/' + installation + '.csv'\n",
    "    pd.to_csv(store_filepath)"
   ]
  },
  {
   "cell_type": "code",
   "execution_count": 0,
   "metadata": {
    "application/vnd.databricks.v1+cell": {
     "cellMetadata": {
      "byteLimit": 2048000,
      "rowLimit": 10000
     },
     "inputWidgets": {},
     "nuid": "adfaf906-7e58-45de-ab75-ac2a125d2b4e",
     "showTitle": true,
     "tableResultSettingsMap": {},
     "title": "dotw logic"
    }
   },
   "outputs": [],
   "source": [
    "import pandas as pd\n",
    "from datetime import *\n",
    "from pyspark.sql.functions import *\n",
    "\n",
    "dbutils.fs.mkdirs('dbfs:/FileStore/tables/dotw')\n",
    "for installation in installation_list:\n",
    "    df_dotw = timestamp_df.filter((col('installation_id') == installation)).groupBy(['BinNo', 'dotw']).count()\n",
    "    # timestamp_df = timestamp_df.groupBy(['BinNo', 'dotw']).count()\n",
    "    pd_dotw = df_dotw.orderBy(desc(\"BinNo\"), desc(\"count\")).toPandas()\n",
    "\n",
    "    store_filepath = '/dbfs/FileStore/tables/dotw/' + installation + '.csv'\n",
    "    pd_dotw.to_csv(store_filepath)\n",
    "\n",
    "# time_list = timestamp_df.toPandas()['local_installation_timestamp'].tolist()\n",
    "# print(time_list[0].day_name())\n",
    "# for i, val in enumerate(time_list):\n",
    "#     time_list[i] = val.to_pydatetime()\n",
    "# print(time_list)\n",
    "\n",
    "# dotw = time_list[0].strftime(\"%A\")\n",
    "# print(dotw)"
   ]
  }
 ],
 "metadata": {
  "application/vnd.databricks.v1+notebook": {
   "computePreferences": null,
   "dashboards": [],
   "environmentMetadata": {
    "base_environment": "",
    "environment_version": "2"
   },
   "inputWidgetPreferences": null,
   "language": "python",
   "notebookMetadata": {
    "mostRecentlyExecutedCommandWithImplicitDF": {
     "commandId": 6275803671446566,
     "dataframes": [
      "_sqldf"
     ]
    },
    "pythonIndentUnit": 4
   },
   "notebookName": "Unify Data Testing",
   "widgets": {}
  },
  "language_info": {
   "name": "python"
  }
 },
 "nbformat": 4,
 "nbformat_minor": 0
}
