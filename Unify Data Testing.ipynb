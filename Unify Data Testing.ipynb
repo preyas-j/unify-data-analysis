{
 "cells": [
  {
   "cell_type": "markdown",
   "metadata": {
    "application/vnd.databricks.v1+cell": {
     "cellMetadata": {},
     "inputWidgets": {},
     "nuid": "22d463eb-c5c8-4157-95aa-734f770e7f5f",
     "showTitle": false,
     "tableResultSettingsMap": {},
     "title": ""
    }
   },
   "source": [
    "## Prepare all DataFrames that will be parsed through later \n",
    "\n",
    "**install_df**: get all unique installation_id to create installation_list that will later be iterated though to get relevant data for all installations \\\n",
    "**df**: get all BIN_UPDATE ASLog entries where bin mode is PORT \\\n",
    "**timestamp_df**: get local timestamp for each BIN_UPDATE where bin mode is PORT and convert that timestamp to a day of the week"
   ]
  },
  {
   "cell_type": "code",
   "execution_count": 0,
   "metadata": {
    "application/vnd.databricks.v1+cell": {
     "cellMetadata": {
      "byteLimit": 2048000,
      "rowLimit": 10000
     },
     "inputWidgets": {},
     "nuid": "a285cca0-157f-4ec3-8367-c840125aefa1",
     "showTitle": true,
     "tableResultSettingsMap": {},
     "title": "ready DFs"
    }
   },
   "outputs": [],
   "source": [
    "import pandas\n",
    "from pyspark.sql import SparkSession\n",
    "\n",
    "spark = SparkSession.builder.appName(\"Installation Data\").getOrCreate()\n",
    "\n",
    "install_df = spark.sql(\"\"\"\n",
    "                select distinct installation_id\n",
    "                from test_unify_analytics.bronze.logs_partition_1\n",
    "            \"\"\")\n",
    "# display(install_df)\n",
    "installation_list = install_df.toPandas()['installation_id'].tolist()\n",
    "# print(len(installation_list))\n",
    "\n",
    "# values[5] == 14 --> bin in PORT\n",
    "df = spark.sql(\"\"\"\n",
    "            select installation_id, tag, unix_timestamp, values\n",
    "            from test_unify_analytics.bronze.logs_partition_1\n",
    "            where tag = 242 AND values[5] = 14\n",
    "        \"\"\")\n",
    "\n",
    "# values[5] == 14 --> bin in PORT\n",
    "timestamp_df = spark.sql(\"\"\"\n",
    "                    select local_installation_timestamp, values[0] as BinNo\n",
    "                    from test_unify_analytics.bronze.logs_partition_1\n",
    "                    where tag = 242 AND values[5] = 14\n",
    "                \"\"\")\n",
    "timestamp_df = timestamp_df.withColumn('dotw', date_format(col('local_installation_timestamp'), 'EEEE'))"
   ]
  },
  {
   "cell_type": "code",
   "execution_count": 0,
   "metadata": {
    "application/vnd.databricks.v1+cell": {
     "cellMetadata": {
      "byteLimit": 2048000,
      "rowLimit": 10000
     },
     "inputWidgets": {},
     "nuid": "cec8c1ef-f813-49aa-a163-6d8671656d00",
     "showTitle": true,
     "tableResultSettingsMap": {},
     "title": "avg bin times loop"
    }
   },
   "outputs": [],
   "source": [
    "import pandas\n",
    "from pyspark.sql.functions import *\n",
    "from pyspark.sql.window import Window\n",
    "\n",
    "dbutils.fs.mkdirs('dbfs:/FileStore/tables/avg_bin_time')\n",
    "for installation in installation_list:\n",
    "    df_loop = df.filter((col('installation_id') == installation)) \n",
    "\n",
    "    df_loop = df_loop.withColumn('bin num', col('values')[0]) \\\n",
    "                     .withColumn('unix timestamp', col('unix_timestamp'))\n",
    "    window_spec = Window.partitionBy('bin num').orderBy('unix_timestamp')\n",
    "    df_loop = df_loop.withColumn('prev_timestamp', lag('unix_timestamp').over(window_spec)) \\\n",
    "                     .withColumn('time diff (sec)', col('unix_timestamp') - col('prev_timestamp'))\n",
    "\n",
    "    result_df = df_loop.groupBy('bin num').agg(round(mean('time diff (sec)')).alias('avg time between presentations (sec)'))\n",
    "    result_df = result_df.withColumn('avg time between presentations (min)', round(col('avg time between presentations (sec)') / 60))\n",
    "            \n",
    "    pd = result_df.toPandas().sort_values(by=['avg time between presentations (sec)'])\n",
    "    # display(pd)\n",
    "\n",
    "    store_filepath = '/dbfs/FileStore/tables/avg_bin_time/' + installation + '.csv'\n",
    "    pd.to_csv(store_filepath)"
   ]
  },
  {
   "cell_type": "code",
   "execution_count": 0,
   "metadata": {
    "application/vnd.databricks.v1+cell": {
     "cellMetadata": {
      "byteLimit": 2048000,
      "rowLimit": 10000
     },
     "inputWidgets": {},
     "nuid": "adfaf906-7e58-45de-ab75-ac2a125d2b4e",
     "showTitle": true,
     "tableResultSettingsMap": {},
     "title": "dotw logic"
    }
   },
   "outputs": [],
   "source": [
    "import pandas as pd\n",
    "from datetime import *\n",
    "from pyspark.sql.functions import *\n",
    "\n",
    "dbutils.fs.mkdirs('dbfs:/FileStore/tables/dotw')\n",
    "for installation in installation_list:\n",
    "    df_dotw = timestamp_df.filter((col('installation_id') == installation)).groupBy(['BinNo', 'dotw']).count()\n",
    "    # timestamp_df = timestamp_df.groupBy(['BinNo', 'dotw']).count()\n",
    "    pd_dotw = df_dotw.orderBy(desc(\"BinNo\"), desc(\"count\")).toPandas()\n",
    "\n",
    "    store_filepath = '/dbfs/FileStore/tables/dotw/' + installation + '.csv'\n",
    "    pd_dotw.to_csv(store_filepath)\n",
    "\n",
    "# time_list = timestamp_df.toPandas()['local_installation_timestamp'].tolist()\n",
    "# print(time_list[0].day_name())\n",
    "# for i, val in enumerate(time_list):\n",
    "#     time_list[i] = val.to_pydatetime()\n",
    "# print(time_list)\n",
    "\n",
    "# dotw = time_list[0].strftime(\"%A\")\n",
    "# print(dotw)"
   ]
  }
 ],
 "metadata": {
  "application/vnd.databricks.v1+notebook": {
   "computePreferences": null,
   "dashboards": [],
   "environmentMetadata": {
    "base_environment": "",
    "environment_version": "2"
   },
   "inputWidgetPreferences": null,
   "language": "python",
   "notebookMetadata": {
    "mostRecentlyExecutedCommandWithImplicitDF": {
     "commandId": 6275803671446566,
     "dataframes": [
      "_sqldf"
     ]
    },
    "pythonIndentUnit": 4
   },
   "notebookName": "Unify Data Testing",
   "widgets": {}
  },
  "language_info": {
   "name": "python"
  }
 },
 "nbformat": 4,
 "nbformat_minor": 0
}
