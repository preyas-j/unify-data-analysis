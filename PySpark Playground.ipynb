{
 "cells": [
  {
   "cell_type": "code",
   "execution_count": 0,
   "metadata": {
    "application/vnd.databricks.v1+cell": {
     "cellMetadata": {},
     "inputWidgets": {},
     "nuid": "89aa969b-23f8-4162-843c-c0dce16b388c",
     "showTitle": true,
     "tableResultSettingsMap": {},
     "title": "files"
    }
   },
   "outputs": [],
   "source": [
    "import pandas as pd\n",
    "\n",
    "# dbutils.fs.rm('/FileStore/tables/', recurse=True)\n",
    "# dbutils.fs.mkdirs('dbfs:/FileStore/tables')\n",
    "files = dbutils.fs.ls('/FileStore/tables/')\n",
    "display(files)\n",
    "# l = [f.name for f in files]\n",
    "# print('num files: ', len(l))\n",
    "# display(pd.DataFrame(l, columns=['installations']))"
   ]
  },
  {
   "cell_type": "code",
   "execution_count": 0,
   "metadata": {
    "application/vnd.databricks.v1+cell": {
     "cellMetadata": {
      "byteLimit": 2048000,
      "rowLimit": 10000
     },
     "inputWidgets": {},
     "nuid": "a9a3dbe8-7165-4635-93df-53ed2a20e9e2",
     "showTitle": true,
     "tableResultSettingsMap": {
      "0": {
       "dataGridStateBlob": null,
       "filterBlob": "{\"version\":1,\"filterGroups\":[{\"enabled\":true,\"filterGroupId\":\"fg_35ddeb25\",\"op\":\"OR\",\"filters\":[{\"filterId\":\"f_52841e4c\",\"enabled\":true,\"columnId\":\"name\",\"dataType\":\"string\",\"filterType\":\"contains\",\"filterValue\":\"boozt\",\"filterConfig\":{}}],\"local\":false,\"updatedAt\":1750407653813}],\"syncTimestamp\":1750407653813}",
       "queryPlanFiltersBlob": "[{\"kind\":\"call\",\"function\":\"or\",\"args\":[{\"kind\":\"call\",\"function\":\"ilike\",\"args\":[{\"kind\":\"identifier\",\"identifier\":\"name\"},{\"kind\":\"literal\",\"value\":\"%boozt%\",\"type\":\"string\"}]}]}]",
       "tableResultIndex": 0
      }
     },
     "title": "pyspark  sql"
    }
   },
   "outputs": [],
   "source": [
    "from pyspark.sql import SparkSession\n",
    "from pyspark.sql.functions import *\n",
    "import pandas\n",
    "\n",
    "\n",
    "spark = SparkSession.builder.appName(\"Spark DataFrames\").getOrCreate()\n",
    "\n",
    "#filtered_df = df.filter(df.installation_id is unique)\n",
    "# display(df.select(\"installation_id\").distinct())\n",
    "# display(df.select(\"tag\").distinct())\n",
    "\n",
    "df = spark.sql(\"\"\"\n",
    "               select * from dev_salesforce.bronze.sf_site\n",
    "            \"\"\")\n",
    "display(df)\n",
    "\n",
    "# df = spark.table('test_unify_analytics.bronze.logs_partition_1') \\\n",
    "#         .select('installation_id', 'tag', 'unix_timestamp', 'values') \\\n",
    "#         .filter((col(\"tag\") == 242) & (col('values')[5] == 14))\n",
    "# df = spark.sql(\"\"\"\n",
    "#                 select installation_id, tag, unix_timestamp, values\n",
    "#                 from test_unify_analytics.bronze.logs_partition_1\n",
    "#                 where tag = 242 AND values[5] = 14\n",
    "#                 \"\"\")\n",
    "# display(df)\n",
    "\n",
    "\n"
   ]
  },
  {
   "cell_type": "code",
   "execution_count": 0,
   "metadata": {
    "application/vnd.databricks.v1+cell": {
     "cellMetadata": {
      "byteLimit": 2048000,
      "rowLimit": 10000
     },
     "inputWidgets": {},
     "nuid": "7f47e366-eef2-4b89-b110-61f138f83274",
     "showTitle": true,
     "tableResultSettingsMap": {},
     "title": "content codes"
    }
   },
   "outputs": [],
   "source": [
    "from pyspark.sql import SparkSession\n",
    "from pyspark.sql.functions import *\n",
    "\n",
    "spark = SparkSession.builder.appName(\"Spark DataFrames\").getOrCreate()\n",
    "\n",
    "df = spark.sql(\"\"\"\n",
    "               select local_installation_timestamp, tag, values\n",
    "               from test_unify_analytics.bronze.logs_partition_1\n",
    "               where installation_id = 'a031v00000tDd2zAAC'\n",
    "            \"\"\")\n",
    "\n",
    "# df_bu_content = df.filter((df['tag'] == 242) & (df['values'][6].isNotNull())).groupBy('bin_num').count().sort('bin_num')\n",
    "# df_bc_content = df.filter((df['tag'] == 362) & (df['values'][1].isNotNull())).groupBy('bin_num').count().sort('bin_num')\n",
    "# df_merge = df_bu_content.join(df_bc_content, on='bin_num', how='outer').sort('bin_num')\n",
    "# print('bin_update content:', df_bu_content.select(sum('count')).collect()[0][0])\n",
    "# print('bin_content:', df_bc_content.select(sum('count')).collect()[0][0])\n",
    "# display(df_bu_content)\n",
    "# display(df_bc_content)\n",
    "# display(df_merge)\n",
    "\n",
    "# df_bu_content = df.filter((df['tag'] == 242) & (df['values'][6].isNotNull())) \\\n",
    "#                   .withColumn('bin_num', df['values'][0]) \\\n",
    "#                   .withColumn('content_code', df['values'][6]) \\\n",
    "#                   .orderBy(['bin_num', 'local_installation_timestamp'], ascending=True)\n",
    "# df_bc_content = df.filter((df['tag'] == 362) & (df['values'][1].isNotNull())) \\\n",
    "#                   .withColumn('bin_num', df['values'][0]) \\\n",
    "#                   .withColumn('content_code', df['values'][1]) \\\n",
    "#                   .orderBy(['bin_num', 'local_installation_timestamp'], ascending=True)\n",
    "df_cb_content = df.filter((df['tag'] == 249) & (df['values'][3].isNotNull())) \\\n",
    "                  .withColumn('bin_num', df['values'][1]) \\\n",
    "                  .withColumn('content_code', df['values'][3]) \\\n",
    "                  .orderBy(['bin_num', 'local_installation_timestamp'], ascending=True)\n",
    "\n",
    "df_cb_content = df_cb_content.groupBy(['content_code']).count().sort('content_code')\n",
    "# display(df_bu_content)\n",
    "# display(df_cb_content)\n",
    "# display(df_bc_content)\n",
    "# display(df)\n",
    "\n"
   ]
  },
  {
   "cell_type": "code",
   "execution_count": 0,
   "metadata": {
    "application/vnd.databricks.v1+cell": {
     "cellMetadata": {
      "byteLimit": 2048000,
      "rowLimit": 10000
     },
     "inputWidgets": {},
     "nuid": "6d0a3d62-9c5c-4588-b780-d0033063882f",
     "showTitle": false,
     "tableResultSettingsMap": {},
     "title": ""
    }
   },
   "outputs": [],
   "source": [
    "import matplotlib.pyplot as plt\n",
    "from sklearn.cluster import KMeans\n",
    "import pandas as pd\n",
    "import numpy as np\n",
    "\n",
    "data = tuple((row['content_code'], row['count']) for row in df_cb_content.collect())\n",
    "print(len(data))\n",
    "if len(data) == 0:\n",
    "    dbutils.notebook.exit(\"no data\")\n",
    "    \n",
    "content_code, count = zip(*data)\n",
    "# print(type(data[0][0]))\n",
    "\n",
    "\n",
    "kmeans = KMeans(n_clusters=2)\n",
    "kmeans.fit(data)\n",
    "# print(kmeans.labels_)\n",
    "centers = kmeans.cluster_centers_\n",
    "grouping = kmeans.labels_\n",
    "\n",
    "fig, axs = plt.subplots(1, 2)\n",
    "\n",
    "axs[0].scatter(content_code, count, c=kmeans.labels_, s=10)\n",
    "axs[0].scatter(centers[:, 0], centers[:, 1], c='red', s=20, alpha=0.5, marker='X')\n",
    "axs[0].set_yscale('log')\n",
    "axs[0].set_xlabel('content code')\n",
    "axs[0].set_ylabel('count')\n",
    "axs[0].set_ylim(0, 10e8)\n",
    "axs[0].grid(True, which='both', linestyle='--', linewidth=0.5)\n",
    "\n",
    "axs[1].scatter(centers[:, 0], centers[:, 1], c='red', s=20, alpha=0.5, marker='X')\n",
    "axs[1].set_xlabel('content code')\n",
    "axs[1].set_yscale('log')\n",
    "axs[1].set_ylim(0, 10e8)\n",
    "axs[1].grid(True, which='both', linestyle='--', linewidth=0.5)\n",
    "\n",
    "plt.tight_layout()\n",
    "plt.show()\n",
    "\n",
    "high_throughput = []\n",
    "for i in range(0, len(content_code)):\n",
    "    if grouping[i] == 1:\n",
    "        high_throughput.append(content_code[i])\n",
    "print('content_code:', content_code)\n",
    "print('count:', count)\n",
    "print('groupings:', grouping)\n",
    "print('high throughput content codes:', high_throughput)\n",
    "\n"
   ]
  }
 ],
 "metadata": {
  "application/vnd.databricks.v1+notebook": {
   "computePreferences": null,
   "dashboards": [],
   "environmentMetadata": {
    "base_environment": "",
    "environment_version": "2"
   },
   "inputWidgetPreferences": null,
   "language": "python",
   "notebookMetadata": {
    "pythonIndentUnit": 4
   },
   "notebookName": "PySpark Playground",
   "widgets": {}
  },
  "language_info": {
   "name": "python"
  }
 },
 "nbformat": 4,
 "nbformat_minor": 0
}
