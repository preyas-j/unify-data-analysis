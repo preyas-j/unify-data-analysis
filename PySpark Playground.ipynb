{
 "cells": [
  {
   "cell_type": "code",
   "execution_count": 0,
   "metadata": {
    "application/vnd.databricks.v1+cell": {
     "cellMetadata": {},
     "collapsed": true,
     "inputWidgets": {},
     "nuid": "a9a3dbe8-7165-4635-93df-53ed2a20e9e2",
     "showTitle": true,
     "tableResultSettingsMap": {},
     "title": "pyspark playground"
    }
   },
   "outputs": [],
   "source": [
    "from pyspark.sql import SparkSession\n",
    "from pyspark.sql.functions import *\n",
    "import pandas\n",
    "\n",
    "\n",
    "spark = SparkSession.builder.appName(\"Spark DataFrames\").getOrCreate()\n",
    "\n",
    "#filtered_df = df.filter(df.installation_id is unique)\n",
    "# display(df.select(\"installation_id\").distinct())\n",
    "# display(df.select(\"tag\").distinct())\n",
    "\n",
    "df = spark.sql(\"\"\"\n",
    "               select distinct installation_id\n",
    "               from test_unify_analytics.bronze.logs_partition_1\n",
    "              \"\"\")\n",
    "list = df.toPandas()['installation_id'].tolist()\n",
    "print(list)\n",
    "\n",
    "# df = spark.table('test_unify_analytics.bronze.logs_partition_1') \\\n",
    "#         .select('installation_id', 'tag', 'unix_timestamp', 'values') \\\n",
    "#         .filter((col(\"tag\") == 242) & (col('values')[5] == 14))\n",
    "# df = spark.sql(\"\"\"\n",
    "#                 select installation_id, tag, unix_timestamp, values\n",
    "#                 from test_unify_analytics.bronze.logs_partition_1\n",
    "#                 where tag = 242 AND values[5] = 14\n",
    "#                 \"\"\")\n",
    "# display(df)\n",
    "\n",
    "\n"
   ]
  },
  {
   "cell_type": "code",
   "execution_count": 0,
   "metadata": {
    "application/vnd.databricks.v1+cell": {
     "cellMetadata": {},
     "collapsed": true,
     "inputWidgets": {},
     "nuid": "0c954439-c659-44b7-90c3-39310e47ff6c",
     "showTitle": true,
     "tableResultSettingsMap": {},
     "title": "num_port_openclose"
    }
   },
   "outputs": [],
   "source": [
    "%sql\n",
    "select installation_id, tag, count(tag)\n",
    "from test_unify_analytics.bronze.logs_1\n",
    "where installation_id = 'a037a00000pwUFKAA2' and (tag = 248 or tag = 249)\n",
    "group by installation_id, tag\n",
    "order by tag asc;"
   ]
  },
  {
   "cell_type": "code",
   "execution_count": 0,
   "metadata": {
    "application/vnd.databricks.v1+cell": {
     "cellMetadata": {},
     "collapsed": true,
     "inputWidgets": {},
     "nuid": "4b825c76-b8da-4bab-b19f-45c5f6d132d2",
     "showTitle": true,
     "tableResultSettingsMap": {},
     "title": "num_bin_pres - one_install"
    }
   },
   "outputs": [],
   "source": [
    "import pandas as pd\n",
    "from pyspark.sql import SparkSession\n",
    "from pyspark.sql.functions import *\n",
    "\n",
    "spark = SparkSession.builder.appName(\"Spark DataFrames\").getOrCreate()\n",
    "\n",
    "ps_df = spark.table('test_unify_analytics.bronze.logs_partition_1')\n",
    "ps_df = ps_df.filter((ps_df.installation_id == 'a030Y00000KPfzuQAD') & (ps_df.tag == 242))\n",
    "\n",
    "# ps_df1 = ps_df.select(ps_df.installation_id, ps_df.tag, ps_df.unix_timestamp, ps_df.values[1].alias('bin num'))\n",
    "# pd_df1 = ps_df1.toPandas()\n",
    "# pd_df1 = pd_df1.sort_values(by=['bin num', 'unix_timestamp'])\n",
    "# display(pd_df1)\n",
    "# print('num rows: ', pd_df1.size)\n",
    "\n",
    "ps_df2 = ps_df.select(ps_df.values[0].alias('bin num'), ps_df.values[5].alias('mode')).filter(ps_df.values[5] == 14)\n",
    "ps_df2 = ps_df2.groupBy(['bin num', 'mode']).count()\n",
    "\n",
    "pd_df2 = ps_df2.toPandas().sort_values(by=['count'], ascending=False)\n",
    "display(pd_df2)"
   ]
  },
  {
   "cell_type": "code",
   "execution_count": 0,
   "metadata": {
    "application/vnd.databricks.v1+cell": {
     "cellMetadata": {},
     "collapsed": true,
     "inputWidgets": {},
     "nuid": "5cf99c38-f4a1-4a1a-bd04-3674390e2d26",
     "showTitle": true,
     "tableResultSettingsMap": {},
     "title": "bin_pres_avg_timediff - one_install"
    }
   },
   "outputs": [],
   "source": [
    "import pandas\n",
    "from pyspark.sql import SparkSession\n",
    "from pyspark.sql.functions import *\n",
    "from pyspark.sql.window import Window\n",
    "\n",
    "spark = SparkSession.builder.appName(\"Installation Data\").getOrCreate()\n",
    "        \n",
    "# for i in range (0,4):\n",
    "# values[5] == 14 --> bin in PORT\n",
    "df = spark.table('test_unify_analytics.bronze.logs_partition_1') \\\n",
    "       .select('installation_id', 'tag', 'unix_timestamp', 'values') \\\n",
    "       .filter((col('installation_id') == 'a031v00001GpVAEAA3') & \n",
    "               (col('tag') == 242) & \n",
    "               (col('values')[5] == 14))\n",
    "\n",
    "\n",
    "df1 = df.withColumn('bin num', col('values')[0]) \\\n",
    "       .withColumn('unix timestamp', col('unix_timestamp'))\n",
    "window_spec = Window.partitionBy('bin num').orderBy('unix_timestamp')\n",
    "df1 = df1.withColumn('prev_timestamp', lag('unix_timestamp').over(window_spec)) \\\n",
    "       .withColumn('time diff (sec)', col('unix_timestamp') - col('prev_timestamp'))\n",
    "\n",
    "result_df = df1.groupBy('bin num').agg(round(mean('time diff (sec)')).alias('avg time between presentations (sec)'))\n",
    "result_df = result_df.withColumn('avg time between presentations (min)', round(col('avg time between presentations (sec)') / 60))\n",
    "pd = result_df.toPandas().sort_values(by=['avg time between presentations (sec)'])\n",
    "display(pd)\n",
    "\n",
    "# pd.to_csv('/dbfs/FileStore/tables/a031v00001GpVAEAA3.csv')\n",
    "# # retrieve_filepath = '/files/tables/a031v00001GpVAEAA3.csv'\n",
    "# url = 'https://adb-4786482868192795.15.azuredatabricks.net/files/tables/a031v00001GpVAEAA3.csv'\n",
    "# response = requests.get(url)\n",
    "# print(response)"
   ]
  },
  {
   "cell_type": "code",
   "execution_count": 0,
   "metadata": {
    "application/vnd.databricks.v1+cell": {
     "cellMetadata": {},
     "collapsed": true,
     "inputWidgets": {},
     "nuid": "89aa969b-23f8-4162-843c-c0dce16b388c",
     "showTitle": true,
     "tableResultSettingsMap": {},
     "title": "files"
    }
   },
   "outputs": [],
   "source": [
    "import pandas as pd\n",
    "\n",
    "# dbutils.fs.rm('/FileStore/tables/', recurse=True)\n",
    "# dbutils.fs.mkdirs('dbfs:/FileStore/tables')\n",
    "files = dbutils.fs.ls('/FileStore/tables/')\n",
    "display(files)\n",
    "# l = [f.name for f in files]\n",
    "# print('num files: ', len(l))\n",
    "# display(pd.DataFrame(l, columns=['installations']))"
   ]
  }
 ],
 "metadata": {
  "application/vnd.databricks.v1+notebook": {
   "computePreferences": null,
   "dashboards": [],
   "environmentMetadata": {
    "base_environment": "",
    "environment_version": "2"
   },
   "inputWidgetPreferences": null,
   "language": "python",
   "notebookMetadata": {
    "pythonIndentUnit": 4
   },
   "notebookName": "PySpark Playground",
   "widgets": {}
  },
  "language_info": {
   "name": "python"
  }
 },
 "nbformat": 4,
 "nbformat_minor": 0
}
