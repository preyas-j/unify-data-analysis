{
 "cells": [
  {
   "cell_type": "code",
   "execution_count": 0,
   "metadata": {
    "application/vnd.databricks.v1+cell": {
     "cellMetadata": {
      "byteLimit": 2048000,
      "rowLimit": 10000
     },
     "inputWidgets": {},
     "nuid": "89aa969b-23f8-4162-843c-c0dce16b388c",
     "showTitle": true,
     "tableResultSettingsMap": {},
     "title": "files"
    }
   },
   "outputs": [],
   "source": [
    "import pandas as pd\n",
    "\n",
    "# dbutils.fs.rm('/FileStore/tables/', recurse=True)\n",
    "# dbutils.fs.mkdirs('dbfs:/FileStore/tables')\n",
    "files = dbutils.fs.ls('/FileStore/Bin_Estimation')\n",
    "display(files)\n",
    "\n",
    "# dbutils.fs.mkdirs('dbfs:/FileStore/Bin_Estimation/tables')\n",
    "# dbutils.fs.mv('dbfs:/FileStore/tables', 'dbfs:/FileStore/Bin_Estimation/tables', recurse=True)\n",
    "\n",
    "# display(files)\n",
    "# l = [f.name for f in files]\n",
    "# print('num files: ', len(l))\n",
    "# display(pd.DataFrame(l, columns=['installations']))"
   ]
  },
  {
   "cell_type": "code",
   "execution_count": 0,
   "metadata": {
    "application/vnd.databricks.v1+cell": {
     "cellMetadata": {
      "byteLimit": 2048000,
      "rowLimit": 10000
     },
     "inputWidgets": {},
     "nuid": "a9a3dbe8-7165-4635-93df-53ed2a20e9e2",
     "showTitle": true,
     "tableResultSettingsMap": {
      "0": {
       "dataGridStateBlob": null,
       "filterBlob": "{\"version\":1,\"filterGroups\":[{\"enabled\":true,\"filterGroupId\":\"fg_94c809dd\",\"op\":\"OR\",\"filters\":[{\"filterId\":\"f_ff273d98\",\"enabled\":true,\"columnId\":\"name\",\"dataType\":\"string\",\"filterType\":\"contains\",\"filterValue\":\"H-E-B\",\"filterConfig\":{}}],\"local\":false,\"updatedAt\":1750755696810}],\"syncTimestamp\":1750755696810}",
       "queryPlanFiltersBlob": "[{\"kind\":\"call\",\"function\":\"or\",\"args\":[{\"kind\":\"call\",\"function\":\"ilike\",\"args\":[{\"kind\":\"identifier\",\"identifier\":\"name\"},{\"kind\":\"literal\",\"value\":\"%H-E-B%\",\"type\":\"string\"}]}]}]",
       "tableResultIndex": 0
      }
     },
     "title": "pyspark  sql"
    }
   },
   "outputs": [],
   "source": [
    "from pyspark.sql import SparkSession\n",
    "from pyspark.sql.functions import *\n",
    "import pandas\n",
    "\n",
    "\n",
    "spark = SparkSession.builder.appName(\"Spark DataFrames\").getOrCreate()\n",
    "\n",
    "#filtered_df = df.filter(df.installation_id is unique)\n",
    "# display(df.select(\"installation_id\").distinct())\n",
    "# display(df.select(\"tag\").distinct())\n",
    "\n",
    "df = spark.sql(\"\"\"\n",
    "               select * from dev_salesforce.bronze.sf_site\n",
    "            \"\"\")\n",
    "display(df)\n",
    "\n",
    "# df = spark.table('test_unify_analytics.bronze.logs_partition_1') \\\n",
    "#         .select('installation_id', 'tag', 'unix_timestamp', 'values') \\\n",
    "#         .filter((col(\"tag\") == 242) & (col('values')[5] == 14))\n",
    "# df = spark.sql(\"\"\"\n",
    "#                 select installation_id, tag, unix_timestamp, values\n",
    "#                 from test_unify_analytics.bronze.logs_partition_1\n",
    "#                 where tag = 242 AND values[5] = 14\n",
    "#                 \"\"\")\n",
    "# display(df)\n",
    "\n",
    "\n"
   ]
  },
  {
   "cell_type": "code",
   "execution_count": 0,
   "metadata": {
    "application/vnd.databricks.v1+cell": {
     "cellMetadata": {
      "byteLimit": 2048000,
      "rowLimit": 10000
     },
     "inputWidgets": {},
     "nuid": "7f47e366-eef2-4b89-b110-61f138f83274",
     "showTitle": true,
     "tableResultSettingsMap": {},
     "title": "content codes"
    }
   },
   "outputs": [],
   "source": [
    "from pyspark.sql import SparkSession\n",
    "from pyspark.sql.functions import *\n",
    "\n",
    "spark = SparkSession.builder.appName(\"Spark DataFrames\").getOrCreate()\n",
    "\n",
    "# H-E-B Plano\n",
    "df = spark.sql(\"\"\"\n",
    "               select installation_id, unix_timestamp, tag, values\n",
    "               from test_unify_analytics.bronze.logs_partition_1\n",
    "               where installation_id = 'a031v00001F9MCKAA3'\n",
    "            \"\"\")\n",
    "\n",
    "# df_bu_content = df.filter((df['tag'] == 242) & (df['values'][6].isNotNull())).groupBy('bin_num').count().sort('bin_num')\n",
    "# df_bc_content = df.filter((df['tag'] == 362) & (df['values'][1].isNotNull())).groupBy('bin_num').count().sort('bin_num')\n",
    "# df_merge = df_bu_content.join(df_bc_content, on='bin_num', how='outer').sort('bin_num')\n",
    "# print('bin_update content:', df_bu_content.select(sum('count')).collect()[0][0])\n",
    "# print('bin_content:', df_bc_content.select(sum('count')).collect()[0][0])\n",
    "# display(df_bu_content)\n",
    "# display(df_bc_content)\n",
    "# display(df_merge)\n",
    "\n",
    "isBIN_UPDATE = df['tag'] == 242\n",
    "isPORT_CLOSEBIN = df['tag'] == 249\n",
    "# df_bu_content = df.filter((df['tag'] == 242) & (df['values'][6].isNotNull())) \\\n",
    "#                   .withColumn('bin_num', df['values'][0]) \\\n",
    "#                   .withColumn('content_code', df['values'][6]) \\\n",
    "#                   .orderBy(['bin_num', 'local_installation_timestamp'], ascending=True)\n",
    "# df_bc_content = df.filter((df['tag'] == 362) & (df['values'][1].isNotNull())) \\\n",
    "#                   .withColumn('bin_num', df['values'][0]) \\\n",
    "#                   .withColumn('content_code', df['values'][1]) \\\n",
    "#                   .orderBy(['bin_num', 'local_installation_timestamp'], ascending=True)\n",
    "\n",
    "df_cb_content = df.filter((isPORT_CLOSEBIN) & (df['values'][3].isNotNull())) \\\n",
    "                  .withColumn('bin_num', df['values'][1]) \\\n",
    "                  .withColumn('content_code', df['values'][3]) \\\n",
    "                  .groupBy(['installation_id', 'content_code']).count() \\\n",
    "                  .orderBy('count', ascending=False)\n",
    "\n",
    "df_bu_depth = df.filter((isBIN_UPDATE) & (df['values'][4].isNotNull())) \\\n",
    "                  .withColumn('bin_num', df['values'][0]) \\\n",
    "                  .withColumn('content_code', df['values'][6]) \\\n",
    "                  .withColumn('depth', df['values'][4]) \\\n",
    "                  .orderBy(['unix_timestamp'], ascending=True)\n",
    "\n",
    "display(df_cb_content)\n",
    "\n",
    "\n"
   ]
  },
  {
   "cell_type": "code",
   "execution_count": 0,
   "metadata": {
    "application/vnd.databricks.v1+cell": {
     "cellMetadata": {
      "byteLimit": 2048000,
      "rowLimit": 10000
     },
     "inputWidgets": {},
     "nuid": "6d0a3d62-9c5c-4588-b780-d0033063882f",
     "showTitle": true,
     "tableResultSettingsMap": {},
     "title": "kmeans"
    }
   },
   "outputs": [],
   "source": [
    "import matplotlib.pyplot as plt\n",
    "from sklearn.cluster import KMeans\n",
    "import pandas as pd\n",
    "import numpy as np\n",
    "\n",
    "data = tuple((row['content_code'], row['count']) for row in df_cb_content.collect())\n",
    "print(len(data))\n",
    "if len(data) == 0:\n",
    "    dbutils.notebook.exit(\"no data\")\n",
    "    \n",
    "content_code, count = zip(*data)\n",
    "# print(type(data[0][0]))\n",
    "print('content codes: ', content_code)\n",
    "print('counts: ', count)\n",
    "\n",
    "kmeans = KMeans(n_clusters=2)\n",
    "kmeans.fit(data)\n",
    "# print(kmeans.labels_)\n",
    "centers = kmeans.cluster_centers_\n",
    "grouping = kmeans.labels_\n",
    "print('grouping 1: ', grouping)\n",
    "print(type(grouping))\n",
    "\n",
    "if grouping[0] == 0:\n",
    "    grouping = grouping ^ 1\n",
    "    \n",
    "print('grouping 2: ', grouping)\n",
    "\n",
    "content_code_associated_groups = zip(content_code, grouping)\n",
    "content_code_associated_groups = sorted(content_code_associated_groups, key=lambda x: x[1], reverse=True)\n",
    "\n",
    "print(content_code_associated_groups)\n"
   ]
  },
  {
   "cell_type": "code",
   "execution_count": 0,
   "metadata": {
    "application/vnd.databricks.v1+cell": {
     "cellMetadata": {
      "byteLimit": 2048000,
      "rowLimit": 10000
     },
     "inputWidgets": {},
     "nuid": "aac775f8-99e0-429d-ba3f-f5fd73b87a0b",
     "showTitle": true,
     "tableResultSettingsMap": {
      "0": {
       "dataGridStateBlob": null,
       "filterBlob": "{\"version\":1,\"filterGroups\":[],\"syncTimestamp\":1750848711330}",
       "queryPlanFiltersBlob": "[]",
       "tableResultIndex": 0
      }
     },
     "title": "time window depth"
    }
   },
   "outputs": [],
   "source": [
    "display(df_bu_depth.drop('installation_id', 'tag').sort(['bin_num', 'unix_timestamp']))\n"
   ]
  },
  {
   "cell_type": "code",
   "execution_count": 0,
   "metadata": {
    "application/vnd.databricks.v1+cell": {
     "cellMetadata": {},
     "inputWidgets": {},
     "nuid": "d7c6bcd0-5b4a-432b-94fa-9e9de5fa6339",
     "showTitle": true,
     "tableResultSettingsMap": {},
     "title": "graphing kmeans"
    }
   },
   "outputs": [],
   "source": [
    "fig, axs = plt.subplots(1, 2)\n",
    "\n",
    "axs[0].scatter(content_code, count, c=kmeans.labels_, s=10)\n",
    "axs[0].scatter(centers[:, 0], centers[:, 1], c='red', s=20, alpha=0.5, marker='X')\n",
    "axs[0].set_yscale('log')\n",
    "axs[0].set_xlabel('content code')\n",
    "axs[0].set_ylabel('count')\n",
    "axs[0].set_ylim(0, 10e8)\n",
    "axs[0].grid(True, which='both', linestyle='--', linewidth=0.5)\n",
    "\n",
    "axs[1].scatter(centers[:, 0], centers[:, 1], c='red', s=20, alpha=0.5, marker='X')\n",
    "axs[1].set_xlabel('content code')\n",
    "axs[1].set_yscale('log')\n",
    "axs[1].set_ylim(0, 10e8)\n",
    "axs[1].grid(True, which='both', linestyle='--', linewidth=0.5)\n",
    "\n",
    "plt.tight_layout()\n",
    "plt.show()"
   ]
  },
  {
   "cell_type": "code",
   "execution_count": 0,
   "metadata": {
    "application/vnd.databricks.v1+cell": {
     "cellMetadata": {
      "byteLimit": 2048000,
      "rowLimit": 10000
     },
     "inputWidgets": {},
     "nuid": "89fef23f-281b-4a41-b2ca-ea85d16f70a4",
     "showTitle": false,
     "tableResultSettingsMap": {},
     "title": ""
    }
   },
   "outputs": [],
   "source": [
    "list = [0, 1, 1, 0]\n",
    "\n",
    "print([1 - x for x in list])"
   ]
  }
 ],
 "metadata": {
  "application/vnd.databricks.v1+notebook": {
   "computePreferences": null,
   "dashboards": [],
   "environmentMetadata": {
    "base_environment": "",
    "environment_version": "2"
   },
   "inputWidgetPreferences": null,
   "language": "python",
   "notebookMetadata": {
    "pythonIndentUnit": 4
   },
   "notebookName": "PySpark Playground",
   "widgets": {}
  },
  "language_info": {
   "name": "python"
  }
 },
 "nbformat": 4,
 "nbformat_minor": 0
}
